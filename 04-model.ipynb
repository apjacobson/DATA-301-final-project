{
 "cells": [
  {
   "cell_type": "markdown",
   "metadata": {},
   "source": [
    "## Model"
   ]
  },
  {
   "cell_type": "markdown",
   "metadata": {},
   "source": [
    "Imports"
   ]
  },
  {
   "cell_type": "code",
   "execution_count": 32,
   "metadata": {},
   "outputs": [],
   "source": [
    "import pandas as pd\n",
    "import numpy as np\n",
    "from sklearn.model_selection import train_test_split\n",
    "from sklearn.linear_model import LinearRegression\n",
    "from numpy import random\n",
    "from sklearn.metrics import mean_squared_error\n",
    "from sklearn.metrics import accuracy_score\n",
    "from sklearn.ensemble import RandomForestRegressor\n",
    "from sklearn.linear_model import Lasso\n",
    "import matplotlib.pyplot as plt"
   ]
  },
  {
   "cell_type": "markdown",
   "metadata": {},
   "source": [
    "Here we read the data and drop any NaN's and infinite numbers"
   ]
  },
  {
   "cell_type": "code",
   "execution_count": 21,
   "metadata": {},
   "outputs": [],
   "source": [
    "sub = pd.read_csv('/data/apjacobson/subset.csv')\n",
    "sub = pd.concat([sub, pd.get_dummies(sub[['college']])], axis=1, join='inner')\n",
    "sub[sub == np.inf] = np.nan\n",
    "sub = sub.dropna()"
   ]
  },
  {
   "cell_type": "markdown",
   "metadata": {},
   "source": [
    "Here we calculate the R^2, root mean squared error, and all the parameter estimates"
   ]
  },
  {
   "cell_type": "code",
   "execution_count": 22,
   "metadata": {},
   "outputs": [
    {
     "name": "stdout",
     "output_type": "stream",
     "text": [
      "R^2: 0.1749046653605888\n",
      "Root Mean Squared Error: 0.800893466736901\n"
     ]
    },
    {
     "data": {
      "text/plain": [
       "evals                 0.002225\n",
       "avg grade num         0.075050\n",
       "proportion major      0.034877\n",
       "proportion support   -0.145003\n",
       "proportion gen ed     0.044655\n",
       "average year         -0.029938\n",
       "college_CENG         -0.183895\n",
       "college_CLA           0.113745\n",
       "college_COSAM         0.148609\n",
       "college_OCOB         -0.016446\n",
       "college_CAFES         0.215777\n",
       "dtype: float64"
      ]
     },
     "execution_count": 22,
     "metadata": {},
     "output_type": "execute_result"
    }
   ],
   "source": [
    "X = sub[['evals', 'avg grade num', 'proportion major', 'proportion support', 'proportion gen ed', 'average year', 'college_CENG', 'college_CLA', 'college_COSAM', 'college_OCOB', 'college_CAFES']]\n",
    "y = sub[['rating']]\n",
    "X_train, X_test, y_train, y_test = train_test_split(X, y, test_size = 0.3, random_state=42)\n",
    "model = LinearRegression()\n",
    "model.fit(X_train, y_train)\n",
    "y_pred = model.predict(X_test)\n",
    "print(\"R^2: {}\".format(model.score(X_test, y_test)))\n",
    "rmse = np.sqrt(mean_squared_error(y_test, y_pred))\n",
    "print(\"Root Mean Squared Error: {}\".format(rmse))\n",
    "params = pd.Series(model.coef_[0], index=X.columns)\n",
    "params"
   ]
  },
  {
   "cell_type": "markdown",
   "metadata": {},
   "source": [
    "We can note the biggest influencers on rating:\n",
    "* Professors who teach primarily support classes get lower poly ratings\n",
    "* Being a professor in College of Engineering or Buisnees has a negative association with rating\n",
    "* Being in CAFES or COSAM have the biggest positive association with polyrating\n",
    "* These are when using College of Architecture as a baseline group"
   ]
  },
  {
   "cell_type": "code",
   "execution_count": 23,
   "metadata": {},
   "outputs": [
    {
     "name": "stdout",
     "output_type": "stream",
     "text": [
      "0.1678126144394317\n",
      "0.06057294790816143\n"
     ]
    }
   ],
   "source": [
    "from sklearn.cross_validation import cross_val_score\n",
    "c = cross_val_score(model, X, y, cv=5)\n",
    "print(c.mean())\n",
    "print(np.std(c))"
   ]
  },
  {
   "cell_type": "markdown",
   "metadata": {},
   "source": [
    "As we can see from the cross validation, the model isn't a great fit to the ratings data"
   ]
  },
  {
   "cell_type": "code",
   "execution_count": 40,
   "metadata": {},
   "outputs": [],
   "source": [
    "def display_plot(cv_scores, cv_scores_std):\n",
    "    fig = plt.figure()\n",
    "    ax = fig.add_subplot(1,1,1)\n",
    "    ax.plot(alpha_space, cv_scores)\n",
    "\n",
    "    std_error = cv_scores_std / np.sqrt(10)\n",
    "\n",
    "    ax.fill_between(alpha_space, cv_scores + std_error, cv_scores - std_error, alpha=0.2)\n",
    "    ax.set_ylabel('CV Score +/- Std Error')\n",
    "    ax.set_xlabel('Alpha')\n",
    "    ax.axhline(np.max(cv_scores), linestyle='--', color='.5')\n",
    "    ax.set_xlim([alpha_space[0], alpha_space[-1]])\n",
    "    ax.set_xscale('log')\n",
    "    plt.show()"
   ]
  },
  {
   "cell_type": "code",
   "execution_count": 42,
   "metadata": {},
   "outputs": [
    {
     "data": {
      "image/png": "[encoded data removed]",
      "text/plain": [
       "<matplotlib.figure.Figure at 0x7f2b0c0af278>"
      ]
     },
     "metadata": {},
     "output_type": "display_data"
    }
   ],
   "source": [
    "# Import necessary modules\n",
    "from sklearn.linear_model import Ridge\n",
    "from sklearn.model_selection import cross_val_score\n",
    "alpha_space = np.logspace(-4, 0, 50)\n",
    "ridge_scores = []\n",
    "ridge_scores_std = []\n",
    "ridge = Ridge(normalize=True)\n",
    "for alpha in alpha_space:\n",
    "    ridge.alpha = alpha\n",
    "    ridge_cv_scores = cross_val_score(ridge, X, y, cv=10)\n",
    "    ridge_scores.append(np.mean(ridge_cv_scores))\n",
    "    ridge_scores_std.append(np.std(ridge_cv_scores))\n",
    "display_plot(ridge_scores, ridge_scores_std);"
   ]
  },
  {
   "cell_type": "markdown",
   "metadata": {},
   "source": [
    "As we can see, the R^2 is around 0.17."
   ]
  },
  {
   "cell_type": "code",
   "execution_count": null,
   "metadata": {},
   "outputs": [],
   "source": []
  }
 ],
 "metadata": {
  "kernelspec": {
   "display_name": "Python 3",
   "language": "python",
   "name": "python3"
  },
  "language_info": {
   "codemirror_mode": {
    "name": "ipython",
    "version": 3
   },
   "file_extension": ".py",
   "mimetype": "text/x-python",
   "name": "python",
   "nbconvert_exporter": "python",
   "pygments_lexer": "ipython3",
   "version": "3.6.3"
  }
 },
 "nbformat": 4,
 "nbformat_minor": 2
}
